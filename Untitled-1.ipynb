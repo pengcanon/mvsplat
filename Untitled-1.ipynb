{
 "cells": [
  {
   "cell_type": "code",
   "execution_count": 1,
   "metadata": {},
   "outputs": [],
   "source": [
    "import os\n",
    "from pathlib import Path\n",
    "import warnings\n",
    "\n",
    "import hydra\n",
    "import torch\n",
    "import wandb\n",
    "from colorama import Fore\n",
    "from jaxtyping import install_import_hook\n",
    "from omegaconf import DictConfig, OmegaConf\n",
    "from pytorch_lightning import Trainer\n",
    "from pytorch_lightning.callbacks import (\n",
    "    LearningRateMonitor,\n",
    "    ModelCheckpoint,\n",
    ")\n",
    "from pytorch_lightning.loggers.wandb import WandbLogger\n",
    "with install_import_hook(\n",
    "    (\"src\",),\n",
    "    (\"beartype\", \"beartype\"),\n",
    "):\n",
    "    from src.config import load_typed_root_config\n",
    "    from src.dataset.data_module import DataModule\n",
    "    from src.global_cfg import set_cfg\n",
    "    from src.loss import get_losses\n",
    "    from src.misc.LocalLogger import LocalLogger\n",
    "    from src.misc.step_tracker import StepTracker\n",
    "    from src.misc.wandb_tools import update_checkpoint_path\n",
    "    from src.model.decoder import get_decoder\n",
    "    from src.model.encoder import get_encoder\n",
    "    from src.model.model_wrapper import ModelWrapper"
   ]
  },
  {
   "cell_type": "code",
   "execution_count": 4,
   "metadata": {},
   "outputs": [],
   "source": [
    "# Load the YAML file\n",
    "config = OmegaConf.load(\"./config/main.yaml\")\n",
    "\n",
    "# Convert to DictConfig\n",
    "cfg_dict = OmegaConf.create(config)"
   ]
  },
  {
   "cell_type": "code",
   "execution_count": 6,
   "metadata": {},
   "outputs": [
    {
     "ename": "MissingValueError",
     "evalue": "missing value for field \"dataset.image_shape\"",
     "output_type": "error",
     "traceback": [
      "\u001b[1;31m---------------------------------------------------------------------------\u001b[0m",
      "\u001b[1;31mDefaultValueNotFoundError\u001b[0m                 Traceback (most recent call last)",
      "File \u001b[1;32mc:\\Users\\Peng Sun\\Documents\\GitHub\\mvsplat\\venv\\lib\\site-packages\\dacite\\core.py:72\u001b[0m, in \u001b[0;36mfrom_dict\u001b[1;34m(data_class, data, config)\u001b[0m\n\u001b[0;32m     71\u001b[0m \u001b[38;5;28;01mtry\u001b[39;00m:\n\u001b[1;32m---> 72\u001b[0m     value \u001b[38;5;241m=\u001b[39m \u001b[43mget_default_value_for_field\u001b[49m\u001b[43m(\u001b[49m\u001b[43mfield\u001b[49m\u001b[43m,\u001b[49m\u001b[43m \u001b[49m\u001b[43mfield_type\u001b[49m\u001b[43m)\u001b[49m\n\u001b[0;32m     73\u001b[0m \u001b[38;5;28;01mexcept\u001b[39;00m DefaultValueNotFoundError:\n",
      "File \u001b[1;32mc:\\Users\\Peng Sun\\Documents\\GitHub\\mvsplat\\venv\\lib\\site-packages\\dacite\\dataclasses.py:21\u001b[0m, in \u001b[0;36mget_default_value_for_field\u001b[1;34m(field, type_)\u001b[0m\n\u001b[0;32m     20\u001b[0m     \u001b[38;5;28;01mreturn\u001b[39;00m \u001b[38;5;28;01mNone\u001b[39;00m\n\u001b[1;32m---> 21\u001b[0m \u001b[38;5;28;01mraise\u001b[39;00m DefaultValueNotFoundError()\n",
      "\u001b[1;31mDefaultValueNotFoundError\u001b[0m: ",
      "\nDuring handling of the above exception, another exception occurred:\n",
      "\u001b[1;31mMissingValueError\u001b[0m                         Traceback (most recent call last)",
      "Cell \u001b[1;32mIn[6], line 1\u001b[0m\n\u001b[1;32m----> 1\u001b[0m cfg \u001b[38;5;241m=\u001b[39m \u001b[43mload_typed_root_config\u001b[49m\u001b[43m(\u001b[49m\u001b[43mcfg_dict\u001b[49m\u001b[43m)\u001b[49m\n\u001b[0;32m      2\u001b[0m set_cfg(cfg_dict)\n",
      "File \u001b[1;32mc:\\Users\\Peng Sun\\Documents\\GitHub\\mvsplat\\venv\\lib\\site-packages\\jaxtyping\\_decorator.py:453\u001b[0m, in \u001b[0;36mjaxtyped.<locals>.wrapped_fn\u001b[1;34m(*args, **kwargs)\u001b[0m\n\u001b[0;32m    450\u001b[0m         \u001b[38;5;28;01mraise\u001b[39;00m TypeCheckError(msg) \u001b[38;5;28;01mfrom\u001b[39;00m \u001b[38;5;21;01me\u001b[39;00m\n\u001b[0;32m    452\u001b[0m \u001b[38;5;66;03m# Actually call the function.\u001b[39;00m\n\u001b[1;32m--> 453\u001b[0m out \u001b[38;5;241m=\u001b[39m fn(\u001b[38;5;241m*\u001b[39margs, \u001b[38;5;241m*\u001b[39m\u001b[38;5;241m*\u001b[39mkwargs)\n\u001b[0;32m    455\u001b[0m \u001b[38;5;28;01mif\u001b[39;00m full_signature\u001b[38;5;241m.\u001b[39mreturn_annotation \u001b[38;5;129;01mis\u001b[39;00m \u001b[38;5;129;01mnot\u001b[39;00m inspect\u001b[38;5;241m.\u001b[39mSignature\u001b[38;5;241m.\u001b[39mempty:\n\u001b[0;32m    456\u001b[0m     \u001b[38;5;66;03m# Now type-check the return value. We need to include the\u001b[39;00m\n\u001b[0;32m    457\u001b[0m     \u001b[38;5;66;03m# parameters in the type-checking here in case there are any\u001b[39;00m\n\u001b[1;32m   (...)\u001b[0m\n\u001b[0;32m    468\u001b[0m     \u001b[38;5;66;03m# checking of the parameters. Unfortunately there doesn't seem\u001b[39;00m\n\u001b[0;32m    469\u001b[0m     \u001b[38;5;66;03m# to be a way around that, so c'est la vie.\u001b[39;00m\n\u001b[0;32m    470\u001b[0m     kwargs[output_name] \u001b[38;5;241m=\u001b[39m out\n",
      "File \u001b[1;32mc:\\Users\\Peng Sun\\Documents\\GitHub\\mvsplat\\src\\config.py:86\u001b[0m, in \u001b[0;36mload_typed_root_config\u001b[1;34m(cfg)\u001b[0m\n\u001b[0;32m     85\u001b[0m \u001b[38;5;28;01mdef\u001b[39;00m \u001b[38;5;21mload_typed_root_config\u001b[39m(cfg: DictConfig) \u001b[38;5;241m-\u001b[39m\u001b[38;5;241m>\u001b[39m RootCfg:\n\u001b[1;32m---> 86\u001b[0m     \u001b[38;5;28;01mreturn\u001b[39;00m load_typed_config(\n\u001b[0;32m     87\u001b[0m         cfg,\n\u001b[0;32m     88\u001b[0m         RootCfg,\n\u001b[0;32m     89\u001b[0m         {\u001b[38;5;28mlist\u001b[39m[LossCfgWrapper]: separate_loss_cfg_wrappers},\n\u001b[0;32m     90\u001b[0m     )\n",
      "File \u001b[1;32mc:\\Users\\Peng Sun\\Documents\\GitHub\\mvsplat\\venv\\lib\\site-packages\\jaxtyping\\_decorator.py:453\u001b[0m, in \u001b[0;36mjaxtyped.<locals>.wrapped_fn\u001b[1;34m(*args, **kwargs)\u001b[0m\n\u001b[0;32m    450\u001b[0m         \u001b[38;5;28;01mraise\u001b[39;00m TypeCheckError(msg) \u001b[38;5;28;01mfrom\u001b[39;00m \u001b[38;5;21;01me\u001b[39;00m\n\u001b[0;32m    452\u001b[0m \u001b[38;5;66;03m# Actually call the function.\u001b[39;00m\n\u001b[1;32m--> 453\u001b[0m out \u001b[38;5;241m=\u001b[39m fn(\u001b[38;5;241m*\u001b[39margs, \u001b[38;5;241m*\u001b[39m\u001b[38;5;241m*\u001b[39mkwargs)\n\u001b[0;32m    455\u001b[0m \u001b[38;5;28;01mif\u001b[39;00m full_signature\u001b[38;5;241m.\u001b[39mreturn_annotation \u001b[38;5;129;01mis\u001b[39;00m \u001b[38;5;129;01mnot\u001b[39;00m inspect\u001b[38;5;241m.\u001b[39mSignature\u001b[38;5;241m.\u001b[39mempty:\n\u001b[0;32m    456\u001b[0m     \u001b[38;5;66;03m# Now type-check the return value. We need to include the\u001b[39;00m\n\u001b[0;32m    457\u001b[0m     \u001b[38;5;66;03m# parameters in the type-checking here in case there are any\u001b[39;00m\n\u001b[1;32m   (...)\u001b[0m\n\u001b[0;32m    468\u001b[0m     \u001b[38;5;66;03m# checking of the parameters. Unfortunately there doesn't seem\u001b[39;00m\n\u001b[0;32m    469\u001b[0m     \u001b[38;5;66;03m# to be a way around that, so c'est la vie.\u001b[39;00m\n\u001b[0;32m    470\u001b[0m     kwargs[output_name] \u001b[38;5;241m=\u001b[39m out\n",
      "File \u001b[1;32mc:\\Users\\Peng Sun\\Documents\\GitHub\\mvsplat\\src\\config.py:66\u001b[0m, in \u001b[0;36mload_typed_config\u001b[1;34m(cfg, data_class, extra_type_hooks)\u001b[0m\n\u001b[0;32m     61\u001b[0m \u001b[38;5;28;01mdef\u001b[39;00m \u001b[38;5;21mload_typed_config\u001b[39m(\n\u001b[0;32m     62\u001b[0m     cfg: DictConfig,\n\u001b[0;32m     63\u001b[0m     data_class: Type[T],\n\u001b[0;32m     64\u001b[0m     extra_type_hooks: \u001b[38;5;28mdict\u001b[39m \u001b[38;5;241m=\u001b[39m {},\n\u001b[0;32m     65\u001b[0m ) \u001b[38;5;241m-\u001b[39m\u001b[38;5;241m>\u001b[39m T:\n\u001b[1;32m---> 66\u001b[0m     \u001b[38;5;28;01mreturn\u001b[39;00m from_dict(\n\u001b[0;32m     67\u001b[0m         data_class,\n\u001b[0;32m     68\u001b[0m         OmegaConf\u001b[38;5;241m.\u001b[39mto_container(cfg),\n\u001b[0;32m     69\u001b[0m         config\u001b[38;5;241m=\u001b[39mConfig(type_hooks\u001b[38;5;241m=\u001b[39m{\u001b[38;5;241m*\u001b[39m\u001b[38;5;241m*\u001b[39mTYPE_HOOKS, \u001b[38;5;241m*\u001b[39m\u001b[38;5;241m*\u001b[39mextra_type_hooks}),\n\u001b[0;32m     70\u001b[0m     )\n",
      "File \u001b[1;32mc:\\Users\\Peng Sun\\Documents\\GitHub\\mvsplat\\venv\\lib\\site-packages\\dacite\\core.py:64\u001b[0m, in \u001b[0;36mfrom_dict\u001b[1;34m(data_class, data, config)\u001b[0m\n\u001b[0;32m     62\u001b[0m \u001b[38;5;28;01mtry\u001b[39;00m:\n\u001b[0;32m     63\u001b[0m     field_data \u001b[38;5;241m=\u001b[39m data[field\u001b[38;5;241m.\u001b[39mname]\n\u001b[1;32m---> 64\u001b[0m     value \u001b[38;5;241m=\u001b[39m \u001b[43m_build_value\u001b[49m\u001b[43m(\u001b[49m\u001b[43mtype_\u001b[49m\u001b[38;5;241;43m=\u001b[39;49m\u001b[43mfield_type\u001b[49m\u001b[43m,\u001b[49m\u001b[43m \u001b[49m\u001b[43mdata\u001b[49m\u001b[38;5;241;43m=\u001b[39;49m\u001b[43mfield_data\u001b[49m\u001b[43m,\u001b[49m\u001b[43m \u001b[49m\u001b[43mconfig\u001b[49m\u001b[38;5;241;43m=\u001b[39;49m\u001b[43mconfig\u001b[49m\u001b[43m)\u001b[49m\n\u001b[0;32m     65\u001b[0m \u001b[38;5;28;01mexcept\u001b[39;00m DaciteFieldError \u001b[38;5;28;01mas\u001b[39;00m error:\n\u001b[0;32m     66\u001b[0m     error\u001b[38;5;241m.\u001b[39mupdate_path(field\u001b[38;5;241m.\u001b[39mname)\n",
      "File \u001b[1;32mc:\\Users\\Peng Sun\\Documents\\GitHub\\mvsplat\\venv\\lib\\site-packages\\dacite\\core.py:99\u001b[0m, in \u001b[0;36m_build_value\u001b[1;34m(type_, data, config)\u001b[0m\n\u001b[0;32m     97\u001b[0m     data \u001b[38;5;241m=\u001b[39m _build_value_for_collection(collection\u001b[38;5;241m=\u001b[39mtype_, data\u001b[38;5;241m=\u001b[39mdata, config\u001b[38;5;241m=\u001b[39mconfig)\n\u001b[0;32m     98\u001b[0m \u001b[38;5;28;01melif\u001b[39;00m cache(is_dataclass)(type_) \u001b[38;5;129;01mand\u001b[39;00m \u001b[38;5;28misinstance\u001b[39m(data, Mapping):\n\u001b[1;32m---> 99\u001b[0m     data \u001b[38;5;241m=\u001b[39m \u001b[43mfrom_dict\u001b[49m\u001b[43m(\u001b[49m\u001b[43mdata_class\u001b[49m\u001b[38;5;241;43m=\u001b[39;49m\u001b[43mtype_\u001b[49m\u001b[43m,\u001b[49m\u001b[43m \u001b[49m\u001b[43mdata\u001b[49m\u001b[38;5;241;43m=\u001b[39;49m\u001b[43mdata\u001b[49m\u001b[43m,\u001b[49m\u001b[43m \u001b[49m\u001b[43mconfig\u001b[49m\u001b[38;5;241;43m=\u001b[39;49m\u001b[43mconfig\u001b[49m\u001b[43m)\u001b[49m\n\u001b[0;32m    100\u001b[0m \u001b[38;5;28;01mfor\u001b[39;00m cast_type \u001b[38;5;129;01min\u001b[39;00m config\u001b[38;5;241m.\u001b[39mcast:\n\u001b[0;32m    101\u001b[0m     \u001b[38;5;28;01mif\u001b[39;00m is_subclass(type_, cast_type):\n",
      "File \u001b[1;32mc:\\Users\\Peng Sun\\Documents\\GitHub\\mvsplat\\venv\\lib\\site-packages\\dacite\\core.py:76\u001b[0m, in \u001b[0;36mfrom_dict\u001b[1;34m(data_class, data, config)\u001b[0m\n\u001b[0;32m     74\u001b[0m         \u001b[38;5;28;01mif\u001b[39;00m \u001b[38;5;129;01mnot\u001b[39;00m field\u001b[38;5;241m.\u001b[39minit:\n\u001b[0;32m     75\u001b[0m             \u001b[38;5;28;01mcontinue\u001b[39;00m\n\u001b[1;32m---> 76\u001b[0m         \u001b[38;5;28;01mraise\u001b[39;00m MissingValueError(field\u001b[38;5;241m.\u001b[39mname)\n\u001b[0;32m     77\u001b[0m \u001b[38;5;28;01mif\u001b[39;00m field\u001b[38;5;241m.\u001b[39minit:\n\u001b[0;32m     78\u001b[0m     init_values[field\u001b[38;5;241m.\u001b[39mname] \u001b[38;5;241m=\u001b[39m value\n",
      "\u001b[1;31mMissingValueError\u001b[0m: missing value for field \"dataset.image_shape\""
     ]
    }
   ],
   "source": []
  },
  {
   "cell_type": "code",
   "execution_count": null,
   "metadata": {},
   "outputs": [],
   "source": []
  }
 ],
 "metadata": {
  "kernelspec": {
   "display_name": "venv",
   "language": "python",
   "name": "python3"
  },
  "language_info": {
   "codemirror_mode": {
    "name": "ipython",
    "version": 3
   },
   "file_extension": ".py",
   "mimetype": "text/x-python",
   "name": "python",
   "nbconvert_exporter": "python",
   "pygments_lexer": "ipython3",
   "version": "3.10.11"
  }
 },
 "nbformat": 4,
 "nbformat_minor": 2
}
